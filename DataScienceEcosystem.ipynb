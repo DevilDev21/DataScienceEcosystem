{
 "cells": [
  {
   "cell_type": "markdown",
   "metadata": {},
   "source": [
    "<center>\n",
    "    <img src=\"https://cf-courses-data.s3.us.cloud-object-storage.appdomain.cloud/IBMDeveloperSkillsNetwork-DS0105EN-SkillsNetwork/labs/Module2/images/SN_web_lightmode.png\" width=\"300\" alt=\"cognitiveclass.ai logo\">\n",
    "</center>\n"
   ]
  },
  {
   "cell_type": "markdown",
   "metadata": {},
   "source": [
    "# Data Science Tools and Ecosystem"
   ]
  },
  {
   "cell_type": "markdown",
   "metadata": {},
   "source": [
    "## In this notebook, Data Science Tools and Ecosystem are summarized."
   ]
  },
  {
   "cell_type": "markdown",
   "metadata": {},
   "source": [
    "**Objectives:**\n",
    "\n",
    "- List popular languages for Data Science.\n",
    "- Introduce Jupyter Notebook and its features.\n",
    "- Demonstrate how to create and execute code cells in Jupyter Notebook.\n",
    "- Provide examples of evaluating arithmetic expressions in Python.\n",
    "- Convert minutes to hours using Python code."
   ]
  },
  {
   "cell_type": "markdown",
   "metadata": {},
   "source": [
    "### Some of the popular languages that Data Scientists use are:\n",
    "\n",
    "1. Python: Python is one of the most widely used languages in data science. It has a rich ecosystem of libraries and frameworks such as NumPy, Pandas, and scikit-learn, which make it versatile for tasks like data manipulation, analysis, and machine learning.\n",
    "\n",
    "2. R: R is another popular language among data scientists, particularly in the field of statistical analysis and visualization. It offers a wide range of packages, such as dplyr, ggplot2, and caret, that are specifically designed for data analysis and statistical modeling.\n",
    "\n",
    "3. SQL: SQL (Structured Query Language) is essential for working with relational databases, which often store large amounts of structured data. Data scientists frequently use SQL to extract, manipulate, and analyze data from databases efficiently.\n",
    "\n",
    "4. Julia: Julia is a high-level, high-performance programming language specifically designed for scientific computing. It combines the ease of use of languages like Python with the speed of languages like C++, making it suitable for computationally intensive tasks in data science.\n",
    "\n",
    "5. Scala: Scala is a language that runs on the Java Virtual Machine (JVM) and is commonly used in big data processing frameworks like Apache Spark. It offers a functional programming paradigm and provides strong support for distributed computing.\n",
    "\n",
    "6. MATLAB: MATLAB is widely used in academia and industry for numerical computing and data analysis. It provides a comprehensive set of tools and functions for data manipulation, visualization, and algorithm development.\n",
    "\n",
    "These are just a few examples of the many languages that data scientists use, and the choice of language often depends on the specific requirements and preferences of the project."
   ]
  },
  {
   "cell_type": "markdown",
   "metadata": {},
   "source": [
    "### Some of the commonly used libraries used by Data Scientists include:\n",
    "\n",
    "1. NumPy: NumPy is a fundamental library for numerical computing in Python. It provides powerful tools for working with large, multi-dimensional arrays and matrices, along with a collection of mathematical functions to operate on these arrays efficiently.\n",
    "\n",
    "2. Pandas: Pandas is a widely used library for data manipulation and analysis. It offers data structures like DataFrames that allow for easy handling and preprocessing of structured data. Pandas provides various functions for data cleaning, merging, reshaping, and aggregation.\n",
    "\n",
    "3. scikit-learn: scikit-learn is a popular machine learning library in Python. It provides a wide range of algorithms and tools for tasks such as classification, regression, clustering, and dimensionality reduction. scikit-learn also includes utilities for model evaluation, feature selection, and data preprocessing.\n",
    "\n",
    "4. TensorFlow: TensorFlow is an open-source library for machine learning and deep learning developed by Google. It offers a comprehensive ecosystem for building and deploying machine learning models, with support for both traditional machine learning methods and deep neural networks.\n",
    "\n",
    "5. PyTorch: PyTorch is another widely used library for deep learning. It provides a dynamic computational graph that allows for flexible and efficient neural network modeling. PyTorch is known for its user-friendly interface and extensive support for GPU acceleration."
   ]
  },
  {
   "cell_type": "markdown",
   "metadata": {},
   "source": [
    "| Data Science Tools |\n",
    "|--------------------|\n",
    "| Jupyter Notebook   |\n",
    "| RStudio            |\n",
    "| Visual Studio Code |"
   ]
  },
  {
   "cell_type": "markdown",
   "metadata": {},
   "source": [
    "### Below are a few examples of evaluating arithmetic expressions in Python.\n",
    "\n",
    "Arithmetic expressions are common in programming and can involve various operations like addition, subtraction, multiplication, and division. Python provides a straightforward syntax for evaluating such expressions.\n",
    "\n",
    "Here are a few examples of arithmetic expressions in Python:"
   ]
  },
  {
   "cell_type": "markdown",
   "metadata": {},
   "source": [
    "#### 1. Addition:"
   ]
  },
  {
   "cell_type": "code",
   "execution_count": 4,
   "metadata": {
    "tags": []
   },
   "outputs": [
    {
     "name": "stdout",
     "output_type": "stream",
     "text": [
      "9\n"
     ]
    }
   ],
   "source": [
    "result = 4 + 5\n",
    "print(result)"
   ]
  },
  {
   "cell_type": "markdown",
   "metadata": {},
   "source": [
    "#### 2. Subtraction:"
   ]
  },
  {
   "cell_type": "code",
   "execution_count": 5,
   "metadata": {
    "tags": []
   },
   "outputs": [
    {
     "name": "stdout",
     "output_type": "stream",
     "text": [
      "5\n"
     ]
    }
   ],
   "source": [
    "result = 8 - 3\n",
    "print(result)"
   ]
  },
  {
   "cell_type": "markdown",
   "metadata": {},
   "source": [
    "#### 3. Multiplication:"
   ]
  },
  {
   "cell_type": "code",
   "execution_count": 6,
   "metadata": {
    "tags": []
   },
   "outputs": [
    {
     "name": "stdout",
     "output_type": "stream",
     "text": [
      "42\n"
     ]
    }
   ],
   "source": [
    "result = 6 * 7\n",
    "print(result)"
   ]
  },
  {
   "cell_type": "markdown",
   "metadata": {},
   "source": [
    "#### 4. Division:"
   ]
  },
  {
   "cell_type": "code",
   "execution_count": 7,
   "metadata": {
    "tags": []
   },
   "outputs": [
    {
     "name": "stdout",
     "output_type": "stream",
     "text": [
      "5.0\n"
     ]
    }
   ],
   "source": [
    "result = 15 / 3\n",
    "print(result)"
   ]
  },
  {
   "cell_type": "code",
   "execution_count": null,
   "metadata": {},
   "outputs": [],
   "source": []
  },
  {
   "cell_type": "code",
   "execution_count": 12,
   "metadata": {
    "tags": []
   },
   "outputs": [
    {
     "name": "stdout",
     "output_type": "stream",
     "text": [
      "17\n"
     ]
    }
   ],
   "source": [
    "# This is a simple arithmetic expression to multiply then add integers.\n",
    "result = (3*4) + 5\n",
    "print(result)  # Output: 17"
   ]
  },
  {
   "cell_type": "code",
   "execution_count": 10,
   "metadata": {
    "tags": []
   },
   "outputs": [
    {
     "name": "stdout",
     "output_type": "stream",
     "text": [
      "3.3333333333333335\n"
     ]
    }
   ],
   "source": [
    "# This will convert 200 minutes to hours by dividing by 60.\n",
    "minutes = 200\n",
    "hours = minutes / 60\n",
    "print(hours)  # Output: 3.3333333333333335"
   ]
  },
  {
   "cell_type": "markdown",
   "metadata": {},
   "source": [
    "## Author\n",
    "Ameen Refaa"
   ]
  },
  {
   "cell_type": "code",
   "execution_count": null,
   "metadata": {},
   "outputs": [],
   "source": []
  }
 ],
 "metadata": {
  "kernelspec": {
   "display_name": "Python",
   "language": "python",
   "name": "conda-env-python-py"
  },
  "language_info": {
   "codemirror_mode": {
    "name": "ipython",
    "version": 3
   },
   "file_extension": ".py",
   "mimetype": "text/x-python",
   "name": "python",
   "nbconvert_exporter": "python",
   "pygments_lexer": "ipython3",
   "version": "3.7.12"
  }
 },
 "nbformat": 4,
 "nbformat_minor": 4
}
